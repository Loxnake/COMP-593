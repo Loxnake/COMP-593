{
  "nbformat": 4,
  "nbformat_minor": 0,
  "metadata": {
    "colab": {
      "name": "WEEK 3 WORKING WITH DATABASES",
      "provenance": [],
      "include_colab_link": true
    },
    "kernelspec": {
      "display_name": "Python 3",
      "name": "python3"
    }
  },
  "cells": [
    {
      "cell_type": "markdown",
      "metadata": {
        "id": "view-in-github",
        "colab_type": "text"
      },
      "source": [
        "<a href=\"https://colab.research.google.com/github/Loxnake/COMP-593/blob/main/WEEK_3_WORKING_WITH_DATABASES.ipynb\" target=\"_parent\"><img src=\"https://colab.research.google.com/assets/colab-badge.svg\" alt=\"Open In Colab\"/></a>"
      ]
    },
    {
      "cell_type": "markdown",
      "metadata": {
        "id": "ATrLBWinTKCJ"
      },
      "source": [
        "# LAB 3: WORKING WITH DATABASES\n"
      ]
    },
    {
      "cell_type": "markdown",
      "metadata": {
        "id": "bH4FqkVLTWRU"
      },
      "source": [
        "## Introduction\n",
        "\n",
        "During this lab, we will experiment with using a few different libararies and modules to connect to and interact with an SQLite database. After creating and configuring our testing database, we will populate it with Fake data and run some queries to see what kind of information we can retreive. For context, we will be creating RSSN, the \"Really Simple Social Network\"."
      ]
    },
    {
      "cell_type": "markdown",
      "metadata": {
        "id": "YtugCh8QUPoi"
      },
      "source": [
        "## Creating a SQLite Database\n",
        "\n",
        "We will be utilizing the `sqlite3` library to create our database file, as it offers the convienience of creating our database file automatically in the event that it cannot find an existing file at the path specified.\n",
        "\n",
        "**Before you run the below code:**\n",
        "On the left of the notebook, select the file folder icon. Then, after you run the code block, you should be able to observe the creation of the database file. If it doesn't appear, try clicking the \"Refresh\" button above the list of folders."
      ]
    },
    {
      "cell_type": "code",
      "metadata": {
        "id": "pzyTkI5PPjib",
        "outputId": "0576775c-44c5-4464-8932-7fa77f47f7b9",
        "colab": {
          "base_uri": "https://localhost:8080/"
        }
      },
      "source": [
        "import sqlite3\n",
        "\n",
        "#When we retreive a Connection object, a new database will be created for us if it doesn't already exist. \n",
        "myConnection = sqlite3.connect('social_network.db')\n",
        "print(sqlite3.version)"
      ],
      "execution_count": 1,
      "outputs": [
        {
          "output_type": "stream",
          "name": "stdout",
          "text": [
            "2.6.0\n"
          ]
        }
      ]
    },
    {
      "cell_type": "markdown",
      "metadata": {
        "id": "gRxXXt8iVmAp"
      },
      "source": [
        "## Creating a Table\n"
      ]
    },
    {
      "cell_type": "markdown",
      "metadata": {
        "id": "plmEQRdNaDMe"
      },
      "source": [
        "We'll use the below code to create a table called `people` within our database. "
      ]
    },
    {
      "cell_type": "code",
      "metadata": {
        "colab": {
          "base_uri": "https://localhost:8080/"
        },
        "id": "uyjSS3cQVwFa",
        "outputId": "bbf5bf84-bfcf-4475-fe6b-b0357868801a"
      },
      "source": [
        "import sqlite3\n",
        "\n",
        "#Retreive the Connection object\n",
        "myConnection = sqlite3.connect('social_network.db')\n",
        "\n",
        "#Once we have a Connection object, we can generate a Cursor object, and use that to run our SQL Queries\n",
        "myCursor = myConnection.cursor()\n",
        "\n",
        "#Let's define the SQL Query we will use to create our first table:\n",
        "createPeopleTable = \"\"\" CREATE TABLE IF NOT EXISTS people (\n",
        "                          id integer PRIMARY KEY,\n",
        "                          name text NOT NULL,\n",
        "                          email text NOT NULL,\n",
        "                          address text NOT NULL,\n",
        "                          city text NOT NULL,\n",
        "                          province text NOT NULL,\n",
        "                          country text NOT NULL,\n",
        "                          phone text,\n",
        "                          bio text,\n",
        "                          dob date NOT NULL,\n",
        "                          heatmap integer,\n",
        "                          created_at datetime NOT NULL,\n",
        "                          updated_at datetime NOT NULL,\n",
        "                          ipv4 text\n",
        "                        );\"\"\"\n",
        "\n",
        "#Now that we have the string to create our table,\n",
        "#Cursor objects have an execute() method which will accept an SQL string and perform the operations described.\n",
        "\n",
        "myCursor.execute(createPeopleTable)\n",
        "\n",
        "#We can confirm if our table was created successfully by running the following SQL Query\n",
        "#pragma_table_info is an internal SQLite function that will retun information about a table\n",
        "myCursor.execute(\"SELECT group_concat(name, ', ') FROM pragma_table_info('people')\")\n",
        "print(myCursor.fetchone())\n",
        "\n",
        "#We use to the commit() method on the database Connection object to persist our changes\n",
        "myConnection.commit()\n",
        "\n",
        "#It is always a good idea to close a connection when it will no longer be used\n",
        "myConnection.close()\n"
      ],
      "execution_count": 2,
      "outputs": [
        {
          "output_type": "stream",
          "name": "stdout",
          "text": [
            "('id, name, email, address, city, province, country, phone, bio, dob, heatmap, created_at, updated_at, ipv4',)\n"
          ]
        }
      ]
    },
    {
      "cell_type": "markdown",
      "metadata": {
        "id": "5swGTtjga2qo"
      },
      "source": [
        "\n",
        "If you received a tuple containing the names of the columns, awesome! We have successfully created our database table.\n",
        "```\n",
        "('id, name, email, address, city, province, country, phone, bio, created_at, updated_at',)\n",
        "```\n",
        "\n",
        "Run the below code block to add our first entry."
      ]
    },
    {
      "cell_type": "code",
      "metadata": {
        "id": "ZSPqve9na7b8"
      },
      "source": [
        "import sqlite3\n",
        "from pprint import pprint #Outputs data in a slightly easier to read format\n",
        "from datetime import datetime #For generating dates and times\n",
        "\n",
        "#Retreive the Connection object\n",
        "myConnection = sqlite3.connect('social_network.db')\n",
        "\n",
        "#Once we have a Connection object, we can generate a Cursor object, and use that to run our SQL Queries\n",
        "myCursor = myConnection.cursor()\n",
        "\n",
        "#Let's define the SQL Query we will use to create our first entry:\n",
        "addPersonQuery = \"\"\"INSERT INTO people (name, \n",
        "                      email, \n",
        "                      address, \n",
        "                      city, \n",
        "                      province, \n",
        "                      country, \n",
        "                      phone, \n",
        "                      bio,\n",
        "                      dob,\n",
        "                      heatmap,\n",
        "                      created_at, \n",
        "                      updated_at, \n",
        "                      ipv4)\n",
        "                  VALUES (?, ?, ?, ?, ?, ?, ?, ?, ?, ?, ?, ?, ?);\"\"\"\n",
        "\n",
        "\"\"\"\n",
        "The ?'s are placeholders that we can fill in when we use the execute() method.\n",
        "This is really handy for code reuse, as we can pass those values are variables in a tuple\n",
        "Instead of hard coding them into the statement.\n",
        "\"\"\"\n",
        "\n",
        "myPerson = (\"Bob Doe\", \n",
        "            \"bobdoe@anon.null\", \n",
        "            \"123 Fake St.\", \n",
        "            \"Fakesville\", \n",
        "            \"Fakesdom\", \n",
        "            \"Fakopolis\", \n",
        "            None, \n",
        "            None,\n",
        "            \"1990-09-12\",\n",
        "            0,\n",
        "            datetime.now(), \n",
        "            datetime.now(),\n",
        "            None)\n",
        "\n",
        "myCursor.execute(addPersonQuery, myPerson)\n",
        "\n",
        "#We can confirm if our table was created successfully by running the following SQL Query\n",
        "#pragma_table_info is an internal SQLite function that will retun information about a table\n",
        "myCursor.execute(\"SELECT * FROM people\")\n",
        "pprint(myCursor.fetchall())\n",
        "\n",
        "# If you run this code block a few times, you will see that you only have 1 entry,\n",
        "# If you uncomment the below lines and run the block a few more times, you will begin to see multiple entries.\n",
        "myConnection.commit()\n",
        "myConnection.close()"
      ],
      "execution_count": null,
      "outputs": []
    },
    {
      "cell_type": "code",
      "metadata": {
        "id": "blL9pzRCgrMP"
      },
      "source": [
        ""
      ],
      "execution_count": null,
      "outputs": []
    },
    {
      "cell_type": "markdown",
      "metadata": {
        "id": "BTZ00Zscgrus"
      },
      "source": [
        "# Lab Submission"
      ]
    },
    {
      "cell_type": "markdown",
      "metadata": {
        "id": "rN93XC6xgvwP"
      },
      "source": [
        "We're going to build our experience with working with Libraries and examining documentation by populating our 'People' table with data provided to us by the `Faker` library. `Faker` is used to generate fake data and is very helpful for the rapid generation of databases for the purposes of testing. Run the two blocks below to install faker and get an idea of what it can do."
      ]
    },
    {
      "cell_type": "code",
      "metadata": {
        "id": "CejUXkoRhPik",
        "outputId": "f8131e60-970c-45df-d5a0-733adf30ba1f",
        "colab": {
          "base_uri": "https://localhost:8080/"
        }
      },
      "source": [
        "!pip install faker"
      ],
      "execution_count": 7,
      "outputs": [
        {
          "output_type": "stream",
          "name": "stdout",
          "text": [
            "Collecting faker\n",
            "  Downloading Faker-13.0.0-py3-none-any.whl (1.5 MB)\n",
            "\u001b[K     |████████████████████████████████| 1.5 MB 4.4 MB/s \n",
            "\u001b[?25hRequirement already satisfied: python-dateutil>=2.4 in /usr/local/lib/python3.7/dist-packages (from faker) (2.8.2)\n",
            "Requirement already satisfied: typing-extensions>=3.10.0.2 in /usr/local/lib/python3.7/dist-packages (from faker) (3.10.0.2)\n",
            "Requirement already satisfied: six>=1.5 in /usr/local/lib/python3.7/dist-packages (from python-dateutil>=2.4->faker) (1.15.0)\n",
            "Installing collected packages: faker\n",
            "Successfully installed faker-13.0.0\n"
          ]
        }
      ]
    },
    {
      "cell_type": "code",
      "metadata": {
        "id": "vO2Uhcwrhw8-",
        "outputId": "5ac1f5c2-26a6-4e2a-9cb3-cef509a3a740",
        "colab": {
          "base_uri": "https://localhost:8080/"
        }
      },
      "source": [
        "from faker import Faker\n",
        "\n",
        "fake = Faker()\n",
        "\n",
        "for _ in range(10):\n",
        "  print('{} || {}'.format( fake.name(), fake.job() ) )"
      ],
      "execution_count": 8,
      "outputs": [
        {
          "output_type": "stream",
          "name": "stdout",
          "text": [
            "James Jones || Arboriculturist\n",
            "Nicole Lucas || Editorial assistant\n",
            "Evan Morales || Forensic scientist\n",
            "Ashley Mitchell || Barista\n",
            "Michael Miller || Armed forces operational officer\n",
            "Denise Reid || Publishing rights manager\n",
            "Tiffany Larsen || Civil engineer, contracting\n",
            "Susan Webb || Financial trader\n",
            "Christina Nelson || Management consultant\n",
            "Allen Nelson || Operational researcher\n"
          ]
        }
      ]
    },
    {
      "cell_type": "markdown",
      "metadata": {
        "id": "IsYIsSvRjmiG"
      },
      "source": [
        "Very cool! Faker has tons of `providers` that can all be used to populate fake data. The [list of providers](https://faker.readthedocs.io/en/stable/providers.html) in the Faker documentation will help you fill out the columns for our People table.\n",
        "\n",
        "The goal of this script is to populate the people table with 1000 entries, with the following constraints:\n",
        "\n",
        "1. The `heatmap` column must contain a random number between `999` and `2500`\n",
        "2. The `created_at` and `updated_at` columns must use the `datetime` object (see examples above) \n",
        "2. Use `Faker` to generate all other fields.\n",
        "\n",
        "*Hint: Each of the methods contained in the provider can be called directly from the base Faker object, for example, one can call the `file_name()` method from `faker.providers.file` by calling `Faker().file_name()`*"
      ]
    },
    {
      "cell_type": "code",
      "metadata": {
        "id": "Yi-fE0uUlor4"
      },
      "source": [
        "import sqlite3\n",
        "from faker import Faker\n",
        "from datetime import datetime #For generating dates and times\n",
        "#Don't forget to import the module to generate random numbers!\n",
        "\n",
        "#Retreive the Connection object\n",
        "myConnection = sqlite3.connect('social_network.db')\n",
        "\n",
        "#Once we have a Connection object, we can generate a Cursor object, and use that to run our SQL Queries\n",
        "myCursor = myConnection.cursor()\n",
        "\n",
        "#This is the same syntax as the above example:\n",
        "addPersonQuery = \"\"\"INSERT INTO people (name, \n",
        "                      email, \n",
        "                      address, \n",
        "                      city, \n",
        "                      province, \n",
        "                      country, \n",
        "                      phone, \n",
        "                      bio,\n",
        "                      dob,\n",
        "                      heatmap,\n",
        "                      created_at, \n",
        "                      updated_at, \n",
        "                      ipv4)\n",
        "                  VALUES (?, ?, ?, ?, ?, ?, ?, ?, ?, ?, ?, ?, ?);\"\"\"\n",
        "\n",
        "fake = Faker()\n",
        "\n",
        "\n",
        "\n",
        "for _ in range(1000):\n",
        "  myPerson = (fake.name(), \n",
        "            fake.email(), \n",
        "            fake.street_address(), \n",
        "            fake.city(), \n",
        "            fake.state(), \n",
        "            fake.country(), \n",
        "            fake.phone_number(), \n",
        "            fake.job(),\n",
        "            fake.date_of_birth(),\n",
        "            fake.random_int(min = 999, max = 2500),\n",
        "            datetime.now(), \n",
        "            datetime.now(),\n",
        "            fake.ipv4())\n",
        "\n",
        "  myCursor.execute(addPersonQuery, myPerson)\n",
        "#Ideally, you will want to create a loop that will iterate 1000 times,\n",
        "#Observe the example in the earlier code block showing the parameter tuple `myPerson`\n",
        "#You can duplicate that inside your loop and replace those fields with calls to the appropriate faker provider method\n",
        "#Execute your statement inside the loop,\n",
        "#But, don't forget to commit and close your connection when you have finished!\n",
        "myConnection.commit()\n",
        "myConnection.close()"
      ],
      "execution_count": 13,
      "outputs": []
    },
    {
      "cell_type": "markdown",
      "metadata": {
        "id": "mVEgfYArnITl"
      },
      "source": [
        "Finally, the last step,\n",
        "Using the code block below, combined with what you have learned above, and the Lecture notes,\n",
        "Craft a SQL Query that will return the `name` of no more than `20` `people` with a `heatmap` greater than `1500`"
      ]
    },
    {
      "cell_type": "code",
      "metadata": {
        "id": "oN6wSS9roOP6",
        "outputId": "3870a6bd-89a3-4528-bc62-282bb7859cc6",
        "colab": {
          "base_uri": "https://localhost:8080/"
        }
      },
      "source": [
        "import sqlite3\n",
        "from pprint import pprint\n",
        "#Retreive the Connection object\n",
        "myConnection = sqlite3.connect('social_network.db')\n",
        "\n",
        "#Once we have a Connection object, we can generate a Cursor object, and use that to run our SQL Queries\n",
        "myCursor = myConnection.cursor()\n",
        "\n",
        "myCursor.execute(\"SELECT * FROM people\")\n",
        "ending = 0\n",
        "for i in range(1000):\n",
        "  current = myCursor.fetchone()\n",
        "  if current[10] >= 1500: #somhow the index for heatmap is 10 instead of 9 or 8, I think because of the I.D. that the database assigns, but even then I'm pretty sure it could be 9\n",
        "      pprint (myCursor.fetchone())\n",
        "      ending = ending + 1\n",
        "  if ending == 20:\n",
        "    break\n",
        "\n"
      ],
      "execution_count": 49,
      "outputs": [
        {
          "output_type": "stream",
          "name": "stdout",
          "text": [
            "(7,\n",
            " 'Dalton Gregory',\n",
            " 'natasha65@example.org',\n",
            " '87180 Jared Rapids Suite 767',\n",
            " 'Port Doris',\n",
            " 'North Dakota',\n",
            " 'Vanuatu',\n",
            " '354-869-9928x121',\n",
            " 'Psychiatric nurse',\n",
            " '2007-05-16',\n",
            " 1025,\n",
            " '2022-02-17 19:54:14.045737',\n",
            " '2022-02-17 19:54:14.045739',\n",
            " '207.155.39.38')\n",
            "(9,\n",
            " 'Chloe Fry',\n",
            " 'taylorkelly@example.net',\n",
            " '1918 Alexander Forks Suite 068',\n",
            " 'West Christopher',\n",
            " 'New Jersey',\n",
            " 'Uzbekistan',\n",
            " '001-331-419-2113x599',\n",
            " 'Editor, magazine features',\n",
            " '1964-08-06',\n",
            " 1269,\n",
            " '2022-02-17 19:54:14.047319',\n",
            " '2022-02-17 19:54:14.047320',\n",
            " '107.117.26.148')\n",
            "(13,\n",
            " 'Deborah Hicks',\n",
            " 'robertvillegas@example.net',\n",
            " '835 Vazquez Trafficway Apt. 681',\n",
            " 'Port Carolyn',\n",
            " 'Pennsylvania',\n",
            " 'Andorra',\n",
            " '(677)510-5900',\n",
            " 'Geophysical data processor',\n",
            " '1924-06-22',\n",
            " 2354,\n",
            " '2022-02-17 19:54:14.050595',\n",
            " '2022-02-17 19:54:14.050597',\n",
            " '190.241.131.0')\n",
            "(15,\n",
            " 'John Cooper',\n",
            " 'bryan08@example.com',\n",
            " '750 Mitchell Spurs',\n",
            " 'Ryanville',\n",
            " 'Maryland',\n",
            " 'New Caledonia',\n",
            " '+1-137-874-7320x599',\n",
            " 'Nature conservation officer',\n",
            " '1940-01-13',\n",
            " 1128,\n",
            " '2022-02-17 19:54:14.052117',\n",
            " '2022-02-17 19:54:14.052119',\n",
            " '139.33.38.179')\n",
            "(18,\n",
            " 'Michelle Nunez',\n",
            " 'leah35@example.org',\n",
            " '4859 Schroeder Flats Apt. 994',\n",
            " 'New Josebury',\n",
            " 'Kentucky',\n",
            " 'Qatar',\n",
            " '(687)650-3707',\n",
            " 'Archivist',\n",
            " '1912-03-08',\n",
            " 2403,\n",
            " '2022-02-17 19:54:14.054432',\n",
            " '2022-02-17 19:54:14.054433',\n",
            " '85.30.104.167')\n",
            "(21,\n",
            " 'Edward Kelley',\n",
            " 'fordheather@example.com',\n",
            " '5103 Payne Terrace',\n",
            " 'Walshfort',\n",
            " 'Alaska',\n",
            " 'Yemen',\n",
            " '847-084-3364x9771',\n",
            " 'Theatre director',\n",
            " '1918-07-29',\n",
            " 1704,\n",
            " '2022-02-17 19:54:14.056788',\n",
            " '2022-02-17 19:54:14.056790',\n",
            " '46.2.111.40')\n",
            "(23,\n",
            " 'Jennifer Cross',\n",
            " 'whitneysmith@example.net',\n",
            " '7810 Johnson Summit',\n",
            " 'East Keith',\n",
            " 'Oregon',\n",
            " 'Wallis and Futuna',\n",
            " '(604)731-4294',\n",
            " 'Medical illustrator',\n",
            " '1986-01-22',\n",
            " 2335,\n",
            " '2022-02-17 19:54:14.058352',\n",
            " '2022-02-17 19:54:14.058354',\n",
            " '201.33.222.252')\n",
            "(25,\n",
            " 'Anna Swanson',\n",
            " 'riverajohn@example.com',\n",
            " '03916 Reed Ridges',\n",
            " 'Gregoryville',\n",
            " 'Alabama',\n",
            " 'Belarus',\n",
            " '371-039-6554',\n",
            " 'Arboriculturist',\n",
            " '2007-12-09',\n",
            " 2314,\n",
            " '2022-02-17 19:54:14.059958',\n",
            " '2022-02-17 19:54:14.059960',\n",
            " '184.207.183.33')\n",
            "(27,\n",
            " 'Brandi Irwin',\n",
            " 'lfischer@example.com',\n",
            " '95123 Jill Estates',\n",
            " 'Lake Jenniferfort',\n",
            " 'Arizona',\n",
            " 'Jamaica',\n",
            " '842.561.4954x3297',\n",
            " 'Teacher, secondary school',\n",
            " '1926-01-25',\n",
            " 1995,\n",
            " '2022-02-17 19:54:14.061347',\n",
            " '2022-02-17 19:54:14.061348',\n",
            " '126.231.15.105')\n",
            "(31,\n",
            " 'Christopher Duncan',\n",
            " 'victoriagilbert@example.org',\n",
            " '44890 Bailey Estates',\n",
            " 'Laurastad',\n",
            " 'Wisconsin',\n",
            " 'Poland',\n",
            " '+1-443-245-9155',\n",
            " 'Rural practice surveyor',\n",
            " '2020-04-19',\n",
            " 2241,\n",
            " '2022-02-17 19:54:14.064396',\n",
            " '2022-02-17 19:54:14.064397',\n",
            " '163.55.175.137')\n",
            "(33,\n",
            " 'Paul Moody',\n",
            " 'martha40@example.org',\n",
            " '750 Jeffrey Pine',\n",
            " 'North Russell',\n",
            " 'Maine',\n",
            " 'Antarctica (the territory South of 60 deg S)',\n",
            " '820-698-6782',\n",
            " 'Academic librarian',\n",
            " '1917-12-02',\n",
            " 1695,\n",
            " '2022-02-17 19:54:14.065784',\n",
            " '2022-02-17 19:54:14.065786',\n",
            " '42.196.218.131')\n",
            "(35,\n",
            " 'Patrick Snyder',\n",
            " 'rachelstone@example.net',\n",
            " '490 Dixon Port',\n",
            " 'East Jaime',\n",
            " 'Oregon',\n",
            " 'Tajikistan',\n",
            " '553-473-1445x219',\n",
            " 'Futures trader',\n",
            " '1922-01-04',\n",
            " 2493,\n",
            " '2022-02-17 19:54:14.067363',\n",
            " '2022-02-17 19:54:14.067365',\n",
            " '154.110.77.57')\n",
            "(37,\n",
            " 'Kristina Luna',\n",
            " 'dana33@example.net',\n",
            " '9385 Peter Isle',\n",
            " 'Russellton',\n",
            " 'South Dakota',\n",
            " 'Kazakhstan',\n",
            " '519-770-8774',\n",
            " 'Clinical scientist, histocompatibility and immunogenetics',\n",
            " '1917-05-09',\n",
            " 1474,\n",
            " '2022-02-17 19:54:14.068862',\n",
            " '2022-02-17 19:54:14.068863',\n",
            " '8.143.185.252')\n",
            "(39,\n",
            " 'Jason Garcia',\n",
            " 'grace52@example.com',\n",
            " '3754 Bolton Estate',\n",
            " 'Hernandezfurt',\n",
            " 'New Hampshire',\n",
            " 'Bouvet Island (Bouvetoya)',\n",
            " '215-887-6889x261',\n",
            " 'Engineer, broadcasting (operations)',\n",
            " '1940-05-23',\n",
            " 1593,\n",
            " '2022-02-17 19:54:14.070334',\n",
            " '2022-02-17 19:54:14.070335',\n",
            " '84.93.178.241')\n",
            "(41,\n",
            " 'Christina Wilkinson',\n",
            " 'ynguyen@example.org',\n",
            " '6042 Eric Turnpike',\n",
            " 'East Jeffreyborough',\n",
            " 'New Hampshire',\n",
            " 'Guatemala',\n",
            " '608-032-0240',\n",
            " 'Chartered public finance accountant',\n",
            " '1912-08-11',\n",
            " 1325,\n",
            " '2022-02-17 19:54:14.071777',\n",
            " '2022-02-17 19:54:14.071779',\n",
            " '174.211.54.97')\n",
            "(43,\n",
            " 'Brittney Lawson',\n",
            " 'uwilson@example.net',\n",
            " '2418 Jessica Course',\n",
            " 'New Anthony',\n",
            " 'Florida',\n",
            " 'British Virgin Islands',\n",
            " '8811544363',\n",
            " 'Theatre director',\n",
            " '1956-01-18',\n",
            " 2020,\n",
            " '2022-02-17 19:54:14.073548',\n",
            " '2022-02-17 19:54:14.073549',\n",
            " '49.130.26.52')\n",
            "(46,\n",
            " 'Andrea Williams DVM',\n",
            " 'morgan66@example.com',\n",
            " '836 Wall Parkway',\n",
            " 'Johnsmouth',\n",
            " 'North Dakota',\n",
            " 'Niue',\n",
            " '772.972.6033x0798',\n",
            " 'Hospital pharmacist',\n",
            " '2020-02-18',\n",
            " 1443,\n",
            " '2022-02-17 19:54:14.075918',\n",
            " '2022-02-17 19:54:14.075919',\n",
            " '159.47.66.135')\n",
            "(50,\n",
            " 'Elizabeth Baker',\n",
            " 'chorton@example.com',\n",
            " '4370 Matthew Plains',\n",
            " 'South Katherinemouth',\n",
            " 'Washington',\n",
            " 'New Zealand',\n",
            " '001-090-512-2494',\n",
            " 'Financial risk analyst',\n",
            " '1975-09-03',\n",
            " 1067,\n",
            " '2022-02-17 19:54:14.078838',\n",
            " '2022-02-17 19:54:14.078840',\n",
            " '91.192.183.127')\n",
            "(54,\n",
            " 'Kaitlin Davis',\n",
            " 'colleen60@example.org',\n",
            " '5534 Danielle Passage',\n",
            " 'West Charles',\n",
            " 'Indiana',\n",
            " 'France',\n",
            " '585-959-5941x466',\n",
            " 'Regulatory affairs officer',\n",
            " '1945-01-28',\n",
            " 2407,\n",
            " '2022-02-17 19:54:14.081664',\n",
            " '2022-02-17 19:54:14.081665',\n",
            " '221.213.80.53')\n",
            "(56,\n",
            " 'Karen Ramirez',\n",
            " 'rblack@example.net',\n",
            " '2182 Todd Curve Suite 803',\n",
            " 'North Sharonfurt',\n",
            " 'Missouri',\n",
            " 'Zimbabwe',\n",
            " '492.473.2138',\n",
            " 'Programmer, applications',\n",
            " '1922-08-26',\n",
            " 1550,\n",
            " '2022-02-17 19:54:14.083214',\n",
            " '2022-02-17 19:54:14.083215',\n",
            " '28.122.50.191')\n"
          ]
        }
      ]
    },
    {
      "cell_type": "markdown",
      "metadata": {
        "id": "qwNrP7FfpJg2"
      },
      "source": [
        "Your submission will contain, as usual, a link to your completed colab notebook, but in addition to that, you will download a copy of your social_network.db file and upload it to D2L. To download the file, right click it from the Files menu on the left of the Notebook."
      ]
    }
  ]
}