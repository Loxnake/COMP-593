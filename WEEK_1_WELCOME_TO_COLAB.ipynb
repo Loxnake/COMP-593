{
  "nbformat": 4,
  "nbformat_minor": 0,
  "metadata": {
    "colab": {
      "name": "WEEK 1 WELCOME TO COLAB",
      "provenance": [],
      "collapsed_sections": [],
      "toc_visible": true,
      "include_colab_link": true
    },
    "kernelspec": {
      "display_name": "Python 3",
      "name": "python3"
    }
  },
  "cells": [
    {
      "cell_type": "markdown",
      "metadata": {
        "id": "view-in-github",
        "colab_type": "text"
      },
      "source": [
        "<a href=\"https://colab.research.google.com/github/Loxnake/COMP-593/blob/main/WEEK_1_WELCOME_TO_COLAB.ipynb\" target=\"_parent\"><img src=\"https://colab.research.google.com/assets/colab-badge.svg\" alt=\"Open In Colab\"/></a>"
      ]
    },
    {
      "cell_type": "markdown",
      "metadata": {
        "id": "GJBs_flRovLc"
      },
      "source": [
        "## **Welcome to COMP 593! cool beans**\n",
        "\n",
        "For your first lab, we will experiment with running a script, and saving our project to our personal github repositories:"
      ]
    },
    {
      "cell_type": "markdown",
      "metadata": {
        "id": "xn279PBwVnDj"
      },
      "source": [
        "##Installing Dependancies##\n",
        "\n",
        "Dependancies are routines, Objects, and methods that a project requires. We add Dependancies to our project in the form of **Libraries** when we want to unlock functionality that already exists, this could be as simple as file IO or as complex as fully fledged Machine Learning libraries. Libraries can be added to our project manually, by downloading them and placing them in our runtime enviornment, or using a **Package Manager** such as PIP."
      ]
    },
    {
      "cell_type": "markdown",
      "metadata": {
        "id": "-IWb3REjW5T0"
      },
      "source": [
        "Run the below code to download the **pyfiglet** library, which we will use to generate some ASCII art."
      ]
    },
    {
      "cell_type": "code",
      "metadata": {
        "id": "ARUZhh6MS7nA",
        "colab": {
          "base_uri": "https://localhost:8080/"
        },
        "outputId": "8c4b9da7-4717-4f64-f89c-d4eeaa2bb24a"
      },
      "source": [
        "pip install pyfiglet\n"
      ],
      "execution_count": 1,
      "outputs": [
        {
          "output_type": "stream",
          "name": "stdout",
          "text": [
            "Collecting pyfiglet\n",
            "  Downloading pyfiglet-0.8.post1-py2.py3-none-any.whl (865 kB)\n",
            "\u001b[?25l\r\u001b[K     |▍                               | 10 kB 17.6 MB/s eta 0:00:01\r\u001b[K     |▊                               | 20 kB 23.6 MB/s eta 0:00:01\r\u001b[K     |█▏                              | 30 kB 26.8 MB/s eta 0:00:01\r\u001b[K     |█▌                              | 40 kB 29.2 MB/s eta 0:00:01\r\u001b[K     |██                              | 51 kB 22.6 MB/s eta 0:00:01\r\u001b[K     |██▎                             | 61 kB 18.6 MB/s eta 0:00:01\r\u001b[K     |██▋                             | 71 kB 16.5 MB/s eta 0:00:01\r\u001b[K     |███                             | 81 kB 15.9 MB/s eta 0:00:01\r\u001b[K     |███▍                            | 92 kB 16.6 MB/s eta 0:00:01\r\u001b[K     |███▉                            | 102 kB 17.0 MB/s eta 0:00:01\r\u001b[K     |████▏                           | 112 kB 17.0 MB/s eta 0:00:01\r\u001b[K     |████▌                           | 122 kB 17.0 MB/s eta 0:00:01\r\u001b[K     |█████                           | 133 kB 17.0 MB/s eta 0:00:01\r\u001b[K     |█████▎                          | 143 kB 17.0 MB/s eta 0:00:01\r\u001b[K     |█████▊                          | 153 kB 17.0 MB/s eta 0:00:01\r\u001b[K     |██████                          | 163 kB 17.0 MB/s eta 0:00:01\r\u001b[K     |██████▍                         | 174 kB 17.0 MB/s eta 0:00:01\r\u001b[K     |██████▉                         | 184 kB 17.0 MB/s eta 0:00:01\r\u001b[K     |███████▏                        | 194 kB 17.0 MB/s eta 0:00:01\r\u001b[K     |███████▋                        | 204 kB 17.0 MB/s eta 0:00:01\r\u001b[K     |████████                        | 215 kB 17.0 MB/s eta 0:00:01\r\u001b[K     |████████▎                       | 225 kB 17.0 MB/s eta 0:00:01\r\u001b[K     |████████▊                       | 235 kB 17.0 MB/s eta 0:00:01\r\u001b[K     |█████████                       | 245 kB 17.0 MB/s eta 0:00:01\r\u001b[K     |█████████▌                      | 256 kB 17.0 MB/s eta 0:00:01\r\u001b[K     |█████████▉                      | 266 kB 17.0 MB/s eta 0:00:01\r\u001b[K     |██████████▏                     | 276 kB 17.0 MB/s eta 0:00:01\r\u001b[K     |██████████▋                     | 286 kB 17.0 MB/s eta 0:00:01\r\u001b[K     |███████████                     | 296 kB 17.0 MB/s eta 0:00:01\r\u001b[K     |███████████▍                    | 307 kB 17.0 MB/s eta 0:00:01\r\u001b[K     |███████████▊                    | 317 kB 17.0 MB/s eta 0:00:01\r\u001b[K     |████████████                    | 327 kB 17.0 MB/s eta 0:00:01\r\u001b[K     |████████████▌                   | 337 kB 17.0 MB/s eta 0:00:01\r\u001b[K     |████████████▉                   | 348 kB 17.0 MB/s eta 0:00:01\r\u001b[K     |█████████████▎                  | 358 kB 17.0 MB/s eta 0:00:01\r\u001b[K     |█████████████▋                  | 368 kB 17.0 MB/s eta 0:00:01\r\u001b[K     |██████████████                  | 378 kB 17.0 MB/s eta 0:00:01\r\u001b[K     |██████████████▍                 | 389 kB 17.0 MB/s eta 0:00:01\r\u001b[K     |██████████████▊                 | 399 kB 17.0 MB/s eta 0:00:01\r\u001b[K     |███████████████▏                | 409 kB 17.0 MB/s eta 0:00:01\r\u001b[K     |███████████████▌                | 419 kB 17.0 MB/s eta 0:00:01\r\u001b[K     |████████████████                | 430 kB 17.0 MB/s eta 0:00:01\r\u001b[K     |████████████████▎               | 440 kB 17.0 MB/s eta 0:00:01\r\u001b[K     |████████████████▋               | 450 kB 17.0 MB/s eta 0:00:01\r\u001b[K     |█████████████████               | 460 kB 17.0 MB/s eta 0:00:01\r\u001b[K     |█████████████████▍              | 471 kB 17.0 MB/s eta 0:00:01\r\u001b[K     |█████████████████▉              | 481 kB 17.0 MB/s eta 0:00:01\r\u001b[K     |██████████████████▏             | 491 kB 17.0 MB/s eta 0:00:01\r\u001b[K     |██████████████████▌             | 501 kB 17.0 MB/s eta 0:00:01\r\u001b[K     |███████████████████             | 512 kB 17.0 MB/s eta 0:00:01\r\u001b[K     |███████████████████▎            | 522 kB 17.0 MB/s eta 0:00:01\r\u001b[K     |███████████████████▊            | 532 kB 17.0 MB/s eta 0:00:01\r\u001b[K     |████████████████████            | 542 kB 17.0 MB/s eta 0:00:01\r\u001b[K     |████████████████████▍           | 552 kB 17.0 MB/s eta 0:00:01\r\u001b[K     |████████████████████▉           | 563 kB 17.0 MB/s eta 0:00:01\r\u001b[K     |█████████████████████▏          | 573 kB 17.0 MB/s eta 0:00:01\r\u001b[K     |█████████████████████▋          | 583 kB 17.0 MB/s eta 0:00:01\r\u001b[K     |██████████████████████          | 593 kB 17.0 MB/s eta 0:00:01\r\u001b[K     |██████████████████████▎         | 604 kB 17.0 MB/s eta 0:00:01\r\u001b[K     |██████████████████████▊         | 614 kB 17.0 MB/s eta 0:00:01\r\u001b[K     |███████████████████████         | 624 kB 17.0 MB/s eta 0:00:01\r\u001b[K     |███████████████████████▌        | 634 kB 17.0 MB/s eta 0:00:01\r\u001b[K     |███████████████████████▉        | 645 kB 17.0 MB/s eta 0:00:01\r\u001b[K     |████████████████████████▏       | 655 kB 17.0 MB/s eta 0:00:01\r\u001b[K     |████████████████████████▋       | 665 kB 17.0 MB/s eta 0:00:01\r\u001b[K     |█████████████████████████       | 675 kB 17.0 MB/s eta 0:00:01\r\u001b[K     |█████████████████████████▍      | 686 kB 17.0 MB/s eta 0:00:01\r\u001b[K     |█████████████████████████▊      | 696 kB 17.0 MB/s eta 0:00:01\r\u001b[K     |██████████████████████████▏     | 706 kB 17.0 MB/s eta 0:00:01\r\u001b[K     |██████████████████████████▌     | 716 kB 17.0 MB/s eta 0:00:01\r\u001b[K     |██████████████████████████▉     | 727 kB 17.0 MB/s eta 0:00:01\r\u001b[K     |███████████████████████████▎    | 737 kB 17.0 MB/s eta 0:00:01\r\u001b[K     |███████████████████████████▋    | 747 kB 17.0 MB/s eta 0:00:01\r\u001b[K     |████████████████████████████    | 757 kB 17.0 MB/s eta 0:00:01\r\u001b[K     |████████████████████████████▍   | 768 kB 17.0 MB/s eta 0:00:01\r\u001b[K     |████████████████████████████▊   | 778 kB 17.0 MB/s eta 0:00:01\r\u001b[K     |█████████████████████████████▏  | 788 kB 17.0 MB/s eta 0:00:01\r\u001b[K     |█████████████████████████████▌  | 798 kB 17.0 MB/s eta 0:00:01\r\u001b[K     |██████████████████████████████  | 808 kB 17.0 MB/s eta 0:00:01\r\u001b[K     |██████████████████████████████▎ | 819 kB 17.0 MB/s eta 0:00:01\r\u001b[K     |██████████████████████████████▋ | 829 kB 17.0 MB/s eta 0:00:01\r\u001b[K     |███████████████████████████████ | 839 kB 17.0 MB/s eta 0:00:01\r\u001b[K     |███████████████████████████████▍| 849 kB 17.0 MB/s eta 0:00:01\r\u001b[K     |███████████████████████████████▉| 860 kB 17.0 MB/s eta 0:00:01\r\u001b[K     |████████████████████████████████| 865 kB 17.0 MB/s \n",
            "\u001b[?25hInstalling collected packages: pyfiglet\n",
            "Successfully installed pyfiglet-0.8.post1\n"
          ]
        }
      ]
    },
    {
      "cell_type": "markdown",
      "metadata": {
        "id": "SNXKhb5XXqF4"
      },
      "source": [
        "There are *hundreds of thousands* of python libraries at your disposal. Some may suit your needs better than others depending on the goals of your scripts or applications. The [PyPi Repository](https://https://pypi.org/) contains a serchable database of packages that are installable via the pip package manager.\n",
        "\n",
        "Run the code below to get an idea of the number of packages that are included for your user within Colab. You don't need to know what all of these do, but it should indicate that python is a very powerful language."
      ]
    },
    {
      "cell_type": "code",
      "metadata": {
        "id": "C7A8viiJXiDs"
      },
      "source": [
        "pip list"
      ],
      "execution_count": null,
      "outputs": []
    },
    {
      "cell_type": "markdown",
      "metadata": {
        "id": "zopYZ3PcY6hR"
      },
      "source": [
        "If you would like to see if pyfiglet was installed, you could scan the list above, or you could **pipe** the output of `pip list` to a console command known as `grep` that will filter for specific strings. This is an example of **redirecting output,** which you have learned about already.\n",
        "\n",
        "\n"
      ]
    },
    {
      "cell_type": "code",
      "metadata": {
        "id": "oAMcMjbLZMIE",
        "colab": {
          "base_uri": "https://localhost:8080/"
        },
        "outputId": "bcf7e11d-4b6e-41a1-a31c-96fa4dfa7bc2"
      },
      "source": [
        "pip list | grep pyfiglet "
      ],
      "execution_count": 3,
      "outputs": [
        {
          "output_type": "stream",
          "name": "stdout",
          "text": [
            "pyfiglet                      0.8.post1\n"
          ]
        }
      ]
    },
    {
      "cell_type": "markdown",
      "metadata": {
        "id": "gt5dp771Yc2c"
      },
      "source": [
        "# Writing Our Script"
      ]
    },
    {
      "cell_type": "markdown",
      "metadata": {
        "id": "Hh36394HaB3g"
      },
      "source": [
        "The intention of this Colab introduction is to get you familiar with using google Colab to accomplish scripting goals. Today, we will be using the `pyfiglet` library we have just installed to output some text. To understand the methods available to us in `pyfiglet` we can look up [the github repository.](https://github.com/pwaller/pyfiglet)\n",
        "\n",
        "***Remember: Since open source packages are at the mercy of their developers or maintainers, comprehensive documentation is never a guarantee.***\n",
        "\n",
        "The help documentation outlines a command line `--help` argument, which means that documentation exists. We can't call command line arguments for imported libraries in colab, but we *can* accomplish the same goal in colab by using the python `help([Object])` function."
      ]
    },
    {
      "cell_type": "code",
      "metadata": {
        "id": "zR6mZpfkgRxd",
        "colab": {
          "base_uri": "https://localhost:8080/"
        },
        "outputId": "c74545f1-6ee4-4a21-fd06-3555230e41a7"
      },
      "source": [
        "from pyfiglet import Figlet\n",
        "\n",
        "help(Figlet)"
      ],
      "execution_count": 7,
      "outputs": [
        {
          "output_type": "stream",
          "name": "stdout",
          "text": [
            "Help on class Figlet in module pyfiglet:\n",
            "\n",
            "class Figlet(builtins.object)\n",
            " |  Figlet(font='standard', direction='auto', justify='auto', width=80)\n",
            " |  \n",
            " |  Main figlet class.\n",
            " |  \n",
            " |  Methods defined here:\n",
            " |  \n",
            " |  __init__(self, font='standard', direction='auto', justify='auto', width=80)\n",
            " |      Initialize self.  See help(type(self)) for accurate signature.\n",
            " |  \n",
            " |  getDirection(self)\n",
            " |  \n",
            " |  getFonts(self)\n",
            " |  \n",
            " |  getJustify(self)\n",
            " |  \n",
            " |  renderText(self, text)\n",
            " |  \n",
            " |  setFont(self, **kwargs)\n",
            " |  \n",
            " |  ----------------------------------------------------------------------\n",
            " |  Data descriptors defined here:\n",
            " |  \n",
            " |  __dict__\n",
            " |      dictionary for instance variables (if defined)\n",
            " |  \n",
            " |  __weakref__\n",
            " |      list of weak references to the object (if defined)\n",
            " |  \n",
            " |  direction\n",
            " |  \n",
            " |  justify\n",
            "\n"
          ]
        }
      ]
    },
    {
      "cell_type": "markdown",
      "metadata": {
        "id": "UxKlfQJrmq4N"
      },
      "source": [
        "Using this function we can see that the `Figlet` object has several methods available. This will bring us to your task:\n",
        "\n",
        "\n",
        "**In the editor below, finish a script that accomplishes the following goals:**\n",
        "\n",
        "1.   Prompt the user to select from a list of 5 fonts.\n",
        "2.   Prompt the user to input the string they would like output in that font.\n",
        "3.   Render the text using the selected font.\n",
        "\n",
        "*Hint:* Call the `getFonts()` method to get a list of the available fonts."
      ]
    },
    {
      "cell_type": "code",
      "metadata": {
        "id": "b2y8sufRoEpR",
        "colab": {
          "base_uri": "https://localhost:8080/"
        },
        "outputId": "4877f5e3-4278-4f20-db47-d260e2c806e1"
      },
      "source": [
        "from pyfiglet import Figlet\n",
        "\n",
        "#Instantiate a Figlet Object\n",
        "figlet = Figlet()\n",
        "fonts = ['standard', 'cyberlarge', 'times', 'xsansi', 'eftiwater']\n",
        "#Prompt the user to select a font\n",
        "selectedFont = input(\"Select a font: \\n 1. standard \\n 2. cyberlarge \\n 3. times \\n 4. xsansi \\n 5. eftiwater \\n>>> \")\n",
        "figlet.setFont(font = (fonts[int(selectedFont)-1]))\n",
        "#Prompt the user to type a message\n",
        "message = input(\"type your message to be rendered \")\n",
        "print(figlet.renderText(message))\n",
        "\n",
        "#Render the message in big text"
      ],
      "execution_count": 28,
      "outputs": [
        {
          "output_type": "stream",
          "name": "stdout",
          "text": [
            "Select a font: \n",
            " 1. standard \n",
            " 2. cyberlarge \n",
            " 3. times \n",
            " 4. xsansi \n",
            " 5. eftiwater \n",
            ">>> 1\n",
            "type your message to be rendered This program works!\n",
            " _____ _     _                                                 \n",
            "|_   _| |__ (_)___   _ __  _ __ ___   __ _ _ __ __ _ _ __ ___  \n",
            "  | | | '_ \\| / __| | '_ \\| '__/ _ \\ / _` | '__/ _` | '_ ` _ \\ \n",
            "  | | | | | | \\__ \\ | |_) | | | (_) | (_| | | | (_| | | | | | |\n",
            "  |_| |_| |_|_|___/ | .__/|_|  \\___/ \\__, |_|  \\__,_|_| |_| |_|\n",
            "                    |_|              |___/                     \n",
            "                    _        _ \n",
            "__      _____  _ __| | _____| |\n",
            "\\ \\ /\\ / / _ \\| '__| |/ / __| |\n",
            " \\ V  V / (_) | |  |   <\\__ \\_|\n",
            "  \\_/\\_/ \\___/|_|  |_|\\_\\___(_)\n",
            "                               \n",
            "\n"
          ]
        }
      ]
    },
    {
      "cell_type": "markdown",
      "metadata": {
        "id": "wXiyORkQqUfz"
      },
      "source": [
        "# Submitting your Script"
      ]
    },
    {
      "cell_type": "markdown",
      "metadata": {
        "id": "eUMXNhytqZY6"
      },
      "source": [
        "Once you have succesfully completed your script, make sure to save it to your github account. (Take a look [at the official colab instructions](https://colab.research.google.com/github/googlecolab/colabtools/blob/master/notebooks/colab-github-demo.ipynb) if you need a refresher.)"
      ]
    }
  ]
}